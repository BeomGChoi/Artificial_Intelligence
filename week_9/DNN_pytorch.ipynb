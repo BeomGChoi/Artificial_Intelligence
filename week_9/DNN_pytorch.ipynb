{
 "cells": [
  {
   "cell_type": "code",
   "execution_count": 1,
   "id": "31603c7e-f41b-4663-916b-fdf0e39d64e7",
   "metadata": {},
   "outputs": [],
   "source": [
    "import torch\n",
    "import torch.nn as nn\n",
    "import torch.optim as optim\n",
    "from sklearn import datasets\n",
    "from sklearn.model_selection import train_test_split\n",
    "from sklearn.preprocessing import StandardScaler\n",
    "from sklearn.metrics import accuracy_score"
   ]
  },
  {
   "cell_type": "code",
   "execution_count": 3,
   "id": "50327ce4-57c6-48b2-b5de-b4019308d3f1",
   "metadata": {},
   "outputs": [],
   "source": [
    "digits = datasets.load_digits()\n",
    "X = digits.data\n",
    "y = digits.target"
   ]
  },
  {
   "cell_type": "code",
   "execution_count": 5,
   "id": "9ea08659-9d9c-49b5-bef2-419940e8250f",
   "metadata": {},
   "outputs": [],
   "source": [
    "scaler = StandardScaler()\n",
    "X = scaler.fit_transform(X)\n",
    "\n",
    "X_train, X_test, y_train, y_test = train_test_split(X, y, test_size=0.2, random_state=42)"
   ]
  },
  {
   "cell_type": "code",
   "execution_count": 7,
   "id": "55af6f86-1b12-41f3-98e8-5832fee236d9",
   "metadata": {},
   "outputs": [],
   "source": [
    "X_train = torch.tensor(X_train, dtype=torch.float32)\n",
    "X_test = torch.tensor(X_test, dtype=torch.float32)\n",
    "y_train = torch.tensor(y_train, dtype=torch.long)\n",
    "y_test = torch.tensor(y_test, dtype=torch.long)"
   ]
  },
  {
   "cell_type": "code",
   "execution_count": 9,
   "id": "1636b61c-fc5d-4cc2-999d-ca444bd04b5f",
   "metadata": {},
   "outputs": [],
   "source": [
    "class DNN(nn.Module):\n",
    "    def __init__(self):\n",
    "        super(DNN, self).__init__()\n",
    "        self.model = nn.Sequential(\n",
    "            nn.Linear(64, 100),\n",
    "            nn.ReLU(),\n",
    "            nn.Linear(100, 10)\n",
    "        )\n",
    "        \n",
    "    def forward(self, x):\n",
    "        return self.model(x)\n",
    "\n",
    "model = DNN()"
   ]
  },
  {
   "cell_type": "code",
   "execution_count": 11,
   "id": "0513e9b8-a07c-4512-b677-0a19bff87e2d",
   "metadata": {},
   "outputs": [],
   "source": [
    "criterion = nn.CrossEntropyLoss()\n",
    "optimizer = optim.Adam(model.parameters(), lr=0.01)"
   ]
  },
  {
   "cell_type": "code",
   "execution_count": 44,
   "id": "fc8d670a-30b0-4e4a-9345-219b2f95a076",
   "metadata": {},
   "outputs": [
    {
     "name": "stdout",
     "output_type": "stream",
     "text": [
      "Epoch [1/20], Loss: 0.0006\n",
      "Epoch [2/20], Loss: 0.0006\n",
      "Epoch [3/20], Loss: 0.0006\n",
      "Epoch [4/20], Loss: 0.0006\n",
      "Epoch [5/20], Loss: 0.0006\n",
      "Epoch [6/20], Loss: 0.0006\n",
      "Epoch [7/20], Loss: 0.0006\n",
      "Epoch [8/20], Loss: 0.0006\n",
      "Epoch [9/20], Loss: 0.0006\n",
      "Epoch [10/20], Loss: 0.0006\n",
      "Epoch [11/20], Loss: 0.0006\n",
      "Epoch [12/20], Loss: 0.0006\n",
      "Epoch [13/20], Loss: 0.0006\n",
      "Epoch [14/20], Loss: 0.0006\n",
      "Epoch [15/20], Loss: 0.0006\n",
      "Epoch [16/20], Loss: 0.0006\n",
      "Epoch [17/20], Loss: 0.0006\n",
      "Epoch [18/20], Loss: 0.0006\n",
      "Epoch [19/20], Loss: 0.0006\n",
      "Epoch [20/20], Loss: 0.0006\n"
     ]
    }
   ],
   "source": [
    "for epoch in range(20):\n",
    "    outputs = model(X_train)\n",
    "    loss = criterion(outputs, y_train)\n",
    "    \n",
    "    optimizer.zero_grad()\n",
    "    loss.backward()\n",
    "    optimizer.step()\n",
    "    \n",
    "    if (epoch+1) % 1 == 0:\n",
    "        print(f'Epoch [{epoch+1}/20], Loss: {loss.item():.4f}')"
   ]
  },
  {
   "cell_type": "code",
   "execution_count": 29,
   "id": "786507bf-8432-4c75-beb3-415899588ff5",
   "metadata": {},
   "outputs": [
    {
     "name": "stdout",
     "output_type": "stream",
     "text": [
      "Accuracy: 0.9722\n"
     ]
    }
   ],
   "source": [
    "with torch.no_grad():\n",
    "    preds = model(X_test)\n",
    "    predicted = torch.argmax(preds, axis=1)\n",
    "    acc = accuracy_score(y_test, predicted)\n",
    "    print(f'Accuracy: {acc:.4f}')"
   ]
  },
  {
   "cell_type": "code",
   "execution_count": null,
   "id": "b41ec07e-b383-4937-b142-5c1b1c930082",
   "metadata": {},
   "outputs": [],
   "source": []
  }
 ],
 "metadata": {
  "kernelspec": {
   "display_name": "Python [conda env:base] *",
   "language": "python",
   "name": "conda-base-py"
  },
  "language_info": {
   "codemirror_mode": {
    "name": "ipython",
    "version": 3
   },
   "file_extension": ".py",
   "mimetype": "text/x-python",
   "name": "python",
   "nbconvert_exporter": "python",
   "pygments_lexer": "ipython3",
   "version": "3.12.7"
  }
 },
 "nbformat": 4,
 "nbformat_minor": 5
}

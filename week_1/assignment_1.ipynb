{
 "cells": [
  {
   "cell_type": "code",
   "execution_count": null,
   "id": "d1668467",
   "metadata": {},
   "outputs": [],
   "source": [
    "\n",
    "import pandas as pd\n",
    "import numpy as np\n",
    "from sklearn.model_selection import train_test_split\n",
    "from sklearn.preprocessing import LabelEncoder\n",
    "from sklearn.tree import DecisionTreeClassifier\n",
    "from sklearn.ensemble import RandomForestClassifier\n",
    "from sklearn.svm import SVC\n",
    "from sklearn.linear_model import LogisticRegression\n",
    "from sklearn.metrics import accuracy_score\n",
    "\n",
    "# 데이터 불러오기\n",
    "file_path = \"iris.csv\"  # 파일 경로를 본인 환경에 맞게 수정\n",
    "df = pd.read_csv(file_path)\n",
    "\n",
    "# 데이터 확인\n",
    "df.head()\n",
    "df.columns\n",
    "    "
   ]
  },
  {
   "cell_type": "code",
   "execution_count": null,
   "id": "4b3deda0",
   "metadata": {},
   "outputs": [],
   "source": [
    "\n",
    "# 특성과 타겟 분리\n",
    "X = df.iloc[:, :-1]  # 마지막 열 제외 (특성)\n",
    "y = df.iloc[:, -1]   # 마지막 열 (타겟)\n",
    "\n",
    "# 타겟 변수(Label Encoding)\n",
    "encoder = LabelEncoder()\n",
    "y = encoder.fit_transform(y)  # 문자열 라벨을 숫자로 변환\n",
    "\n",
    "# 데이터 분할 (80% 학습, 20% 테스트)\n",
    "X_train, X_test, y_train, y_test = train_test_split(X, y, test_size=0.2, random_state=42)\n",
    "    "
   ]
  },
  {
   "cell_type": "code",
   "execution_count": null,
   "id": "af1cb472",
   "metadata": {},
   "outputs": [],
   "source": [
    "\n",
    "# 모델 학습 및 평가 함수\n",
    "def train_and_evaluate(model, X_train, X_test, y_train, y_test):\n",
    "    model.fit(X_train, y_train)\n",
    "    y_pred = model.predict(X_test)\n",
    "    return accuracy_score(y_test, y_pred)\n",
    "\n",
    "# 모델 정의\n",
    "models = {\n",
    "    \"Decision Tree\": DecisionTreeClassifier(random_state=42),\n",
    "    \"Random Forest\": RandomForestClassifier(random_state=42),\n",
    "    \"SVM\": SVC(random_state=42),\n",
    "    \"Logistic Regression\": LogisticRegression(max_iter=200)\n",
    "}\n",
    "\n",
    "# 모델 학습 및 평가\n",
    "results = {name: train_and_evaluate(model, X_train, X_test, y_train, y_test) for name, model in models.items()}\n",
    "\n",
    "# 결과 출력\n",
    "results\n",
    "    "
   ]
  }
 ],
 "metadata": {},
 "nbformat": 4,
 "nbformat_minor": 5
}
